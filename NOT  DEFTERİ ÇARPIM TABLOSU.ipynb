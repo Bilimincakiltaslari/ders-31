{
 "cells": [
  {
   "cell_type": "code",
   "execution_count": null,
   "metadata": {},
   "outputs": [],
   "source": [
    "for i in range(1,11):\n",
    "    for j in range(1,11):\n",
    "        print(f\"{i} x {j} = {i*j}\")\n",
    "        if j==10:\n",
    "            print(11*\"*\")"
   ]
  },
  {
   "cell_type": "code",
   "execution_count": null,
   "metadata": {},
   "outputs": [],
   "source": [
    "for i in range(1,25):\n",
    "    print(i, end=10*\" \")\n",
    "    if i % 4 == 0:\n",
    "        print(\"\\n\")"
   ]
  },
  {
   "cell_type": "code",
   "execution_count": null,
   "metadata": {},
   "outputs": [],
   "source": [
    "for i in range(1,101):\n",
    "    print(\"{:>3}\\t\".format(i), end=\"\")\n",
    "    if i % 5 == 0:\n",
    "        print(\"\\n\")"
   ]
  },
  {
   "cell_type": "code",
   "execution_count": null,
   "metadata": {},
   "outputs": [],
   "source": [
    "for i in range(1,11):\n",
    "    for j in range(1,11):\n",
    "        print(\"{:>2}{:>2}{:>2}{:>2}{:>2}\\t\".format(i,\"x\",j,\"=\",i*j),\n",
    "              end=\"\")\n",
    "        if j % 5 == 0:\n",
    "            print(\"\\n\")"
   ]
  },
  {
   "cell_type": "code",
   "execution_count": null,
   "metadata": {
    "scrolled": true
   },
   "outputs": [],
   "source": [
    "print(30*\"*\",\"ÇARPIM TABLOSU\",30*\"*\")\n",
    "print(76*\"*\")\n",
    "for i in range(1,11):\n",
    "    for j in range(1,11):\n",
    "        print(\"{:>1}{:>1}{:>1}{:>1}{:>4}\\t\".format(i,\"x\",j,\"=\",i*j),\n",
    "              sep=\"\", end=\"\")\n",
    "        if j % 5 == 0:\n",
    "            print(\"\\n\")\n",
    "        if j == 10:\n",
    "            print(76*\"*\")"
   ]
  },
  {
   "cell_type": "code",
   "execution_count": 1,
   "metadata": {},
   "outputs": [],
   "source": [
    "dosya=open(\"ÇARPIM TABLOSU.txt\",\"w\", encoding=\"utf-8\")\n",
    "print(19*\"*\",\"ÇARPIM TABLOSU\",19*\"*\", file=dosya)\n",
    "print(63*\"*\", file=dosya)\n",
    "for i in range(1,11):\n",
    "    for j in range(1,11):\n",
    "        print(\"{:>1}{:>1}{:>1}{:>1}{:>2}\\t\".format(i,\"x\",j,\"=\",i*j),\n",
    "              sep=\"\", end=\"\", file=dosya)\n",
    "        if j % 5 == 0:\n",
    "            print(\"\\n\", file=dosya)\n",
    "        if j == 10:\n",
    "            print(63*\"*\", file=dosya)\n",
    "dosya.close()"
   ]
  },
  {
   "cell_type": "code",
   "execution_count": null,
   "metadata": {},
   "outputs": [],
   "source": []
  }
 ],
 "metadata": {
  "kernelspec": {
   "display_name": "Python 3",
   "language": "python",
   "name": "python3"
  },
  "language_info": {
   "codemirror_mode": {
    "name": "ipython",
    "version": 3
   },
   "file_extension": ".py",
   "mimetype": "text/x-python",
   "name": "python",
   "nbconvert_exporter": "python",
   "pygments_lexer": "ipython3",
   "version": "3.7.3"
  }
 },
 "nbformat": 4,
 "nbformat_minor": 2
}
