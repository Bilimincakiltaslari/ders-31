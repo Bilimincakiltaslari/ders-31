{
 "cells": [
  {
   "cell_type": "code",
   "execution_count": null,
   "metadata": {},
   "outputs": [],
   "source": [
    "dosya=open(\"ders.txt\",\"r+\", encoding=\"utf-8\")\n",
    "print(\"Devam\\n2. satır\\n3. satır\\n\", file=dosya)\n",
    "print(\"yazıma devam ediyorum\\n\", file=dosya)\n",
    "dosya.close()\n"
   ]
  },
  {
   "cell_type": "code",
   "execution_count": null,
   "metadata": {},
   "outputs": [],
   "source": [
    "dosya=open(\"ders.txt\",\"r+\", encoding=\"utf-8\")\n",
    "print(\"Tekrar\\n5. satir\\n6. satir\\n\", file=dosya)\n",
    "print(\"Burda bitsin\\n\", file=dosya)\n",
    "dosya.close()"
   ]
  },
  {
   "cell_type": "code",
   "execution_count": null,
   "metadata": {},
   "outputs": [],
   "source": [
    "dosya=open(\"ders.txt\",\"r+\", encoding=\"utf-8\")\n",
    "dosya.write(\"Aytek\\n\")\n",
    "dosya.close()"
   ]
  },
  {
   "cell_type": "code",
   "execution_count": null,
   "metadata": {},
   "outputs": [],
   "source": [
    "dosya=open(\"ders.txt\",\"r+\")\n",
    "print(dosya.read())\n",
    "dosya.close()"
   ]
  },
  {
   "cell_type": "code",
   "execution_count": null,
   "metadata": {},
   "outputs": [],
   "source": [
    "dosya=open(\"ders.txt\",\"r+\")\n",
    "print(dosya.readline()) #İlk satırı okudu\n",
    "print(dosya.readline()) #İkinci satırı okudu\n",
    "dosya.close()"
   ]
  },
  {
   "cell_type": "code",
   "execution_count": null,
   "metadata": {},
   "outputs": [],
   "source": [
    "dosya=open(\"ders.txt\",\"r\")\n",
    "satirlar=dosya.readlines()\n",
    "print(satirlar)\n",
    "dosya.close()"
   ]
  },
  {
   "cell_type": "code",
   "execution_count": null,
   "metadata": {},
   "outputs": [],
   "source": [
    "dosya=open(\"ders.txt\",\"r\")\n",
    "satirlar=dosya.readlines()\n",
    "for satir in satirlar:\n",
    "    print(satir)\n",
    "dosya.close()"
   ]
  },
  {
   "cell_type": "code",
   "execution_count": null,
   "metadata": {},
   "outputs": [],
   "source": [
    "dosya=open(\"ders.txt\",\"r+\")\n",
    "dosya.read()\n",
    "dosya.seek(53)\n",
    "dosya.write(\"Python Programlama: 2 Ders 3,5 Saat\")\n",
    "dosya.flush()\n",
    "dosya.close()\n"
   ]
  },
  {
   "cell_type": "code",
   "execution_count": null,
   "metadata": {},
   "outputs": [],
   "source": [
    "#Araya ELeman Ekleme İşlemi\n",
    "with open(\"ders.txt\",\"r+\",encoding=\"utf8\") as file:\n",
    "    f=file.readlines()\n",
    "    f.insert(0,\" Deneme\")\n",
    "    file.seek(0)\n",
    "    file.writelines(f)"
   ]
  },
  {
   "cell_type": "code",
   "execution_count": null,
   "metadata": {},
   "outputs": [],
   "source": [
    "dosya=open(\"sinavnotlari.txt\",\"w\", encoding=\"utf-8\")\n",
    "print(\"\",file=dosya)\n",
    "dosya.close()"
   ]
  },
  {
   "cell_type": "code",
   "execution_count": null,
   "metadata": {},
   "outputs": [],
   "source": [
    "dosya=open(\"sinavnotlari.txt\",\"r+\", encoding=\"utf-8\")\n",
    "print(\"Ertuğrul Deniz,40,73,57\", file=dosya)\n",
    "print(\"Semra Koca,80,100,90\", file=dosya)\n",
    "print(\"Ozan Kahraman,100,70,100\", file=dosya)\n",
    "print(\"Erdem Güneş,52,100,68\", file=dosya)\n",
    "print(\"Burak Ünlü,80,70,100\", file=dosya)\n",
    "print(\"Mine Okur,82,63,90\", file=dosya)\n",
    "print(\"Nur Demir,36,49,58\", file=dosya)\n",
    "dosya.close()\n"
   ]
  },
  {
   "cell_type": "code",
   "execution_count": null,
   "metadata": {},
   "outputs": [],
   "source": [
    "def not_hesapla(satir):\n",
    "    satir=satir[:-1]\n",
    "    liste=satir.split(\",\") #Virgüle göre parçalama işlemleri gerçekleştiriyoruz.\n",
    "    print(liste)\n",
    "    isim=liste[0]\n",
    "    not1= int(liste[1])\n",
    "    not2= int(liste[2])\n",
    "    not3= int(liste[3])\n",
    "    sonnot=not1*(3/10)+not2*(3/10)+not3*(4/10)\n",
    " \n",
    "    if(sonnot>90):\n",
    "       harf=\"AA\"\n",
    "    elif(sonnot>=80 and sonnot<=90):\n",
    "        harf=\"BA\"\n",
    "    elif(sonnot>=65):\n",
    "        harf=\"CC\"\n",
    "    else:\n",
    "        harf=\"FF\"\n",
    " \n",
    "    return isim +\": \"+ harf +\"\\n\"\n",
    " \n",
    "with open(\"sinavnotlari.txt\",\"r+\",encoding=\"utf-8\") as file:\n",
    "    eklenecekler_listesi=[]\n",
    " \n",
    "    for i in file:\n",
    "        eklenecekler_listesi.append(not_hesapla(i))\n",
    " \n",
    "    with open(\"sonuclar.txt\",\"w\",encoding=\"utf-8\") as file2:\n",
    "         for i in eklenecekler_listesi:\n",
    "            file2.write(i)"
   ]
  },
  {
   "cell_type": "code",
   "execution_count": null,
   "metadata": {},
   "outputs": [],
   "source": [
    "for i in range(128):\n",
    "    if i % 4 == 0:\n",
    "        print(\"\\n\")\n",
    "\n",
    "    print(\"{:<3}{:>8}\\t\".format(i, repr(chr(i))), sep=\"\", end=\"\")"
   ]
  },
  {
   "cell_type": "code",
   "execution_count": null,
   "metadata": {},
   "outputs": [],
   "source": [
    "print(30*\"*\",\"ÇARPIM TABLOSU\",30*\"*\")\n",
    "print(76*\"*\")\n",
    "for i in range(1,11):\n",
    "    for j in range(1,11):\n",
    "        print(\"{:>1}{:>1}{:>1}{:>1}{:>4}\\t\".format(i,\"x\",j,\"=\",i*j),\n",
    "              sep=\"\", end=\"\")\n",
    "        if j % 5 == 0:\n",
    "            print(\"\\n\")\n",
    "        if j == 10:\n",
    "            print(76*\"*\")"
   ]
  },
  {
   "cell_type": "code",
   "execution_count": null,
   "metadata": {},
   "outputs": [],
   "source": [
    "dosya=open(\"ÇARPIM TABLOSU.txt\",\"w\", encoding=\"utf-8\")\n",
    "print(19*\"*\",\"ÇARPIM TABLOSU\",19*\"*\", file=dosya)\n",
    "print(63*\"*\", file=dosya)\n",
    "for i in range(1,11):\n",
    "    for j in range(1,11):\n",
    "        print(\"{:<1}{:<1}{:<1}{:<1}{:<2}\\t\".format(i,\"x\",j,\"=\",i*j),\n",
    "              sep=\"\", end=\"\", file=dosya)\n",
    "        if j % 5 == 0:\n",
    "            print(\"\\n\", file=dosya)\n",
    "        if j == 10:\n",
    "            print(63*\"*\", file=dosya)\n",
    "dosya.close()"
   ]
  },
  {
   "cell_type": "code",
   "execution_count": null,
   "metadata": {},
   "outputs": [],
   "source": [
    "dosya=open(\"ÇARPIM TABLOSU.txt\",\"w\", encoding=\"utf-8\")\n",
    "print(63*\"*\", file=dosya)\n",
    "dosya.close()"
   ]
  },
  {
   "cell_type": "code",
   "execution_count": null,
   "metadata": {},
   "outputs": [],
   "source": []
  }
 ],
 "metadata": {
  "kernelspec": {
   "display_name": "Python 3",
   "language": "python",
   "name": "python3"
  },
  "language_info": {
   "codemirror_mode": {
    "name": "ipython",
    "version": 3
   },
   "file_extension": ".py",
   "mimetype": "text/x-python",
   "name": "python",
   "nbconvert_exporter": "python",
   "pygments_lexer": "ipython3",
   "version": "3.7.3"
  }
 },
 "nbformat": 4,
 "nbformat_minor": 2
}
